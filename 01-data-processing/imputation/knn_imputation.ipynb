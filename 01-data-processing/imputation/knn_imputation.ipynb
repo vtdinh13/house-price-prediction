{
 "cells": [
  {
   "cell_type": "code",
   "execution_count": 1,
   "id": "edf96880",
   "metadata": {},
   "outputs": [],
   "source": [
    "import pandas as pd\n",
    "import plotly.express as px"
   ]
  },
  {
   "cell_type": "code",
   "execution_count": 2,
   "id": "f4664ca1",
   "metadata": {},
   "outputs": [
    {
     "data": {
      "text/html": [
       "<div>\n",
       "<style scoped>\n",
       "    .dataframe tbody tr th:only-of-type {\n",
       "        vertical-align: middle;\n",
       "    }\n",
       "\n",
       "    .dataframe tbody tr th {\n",
       "        vertical-align: top;\n",
       "    }\n",
       "\n",
       "    .dataframe thead th {\n",
       "        text-align: right;\n",
       "    }\n",
       "</style>\n",
       "<table border=\"1\" class=\"dataframe\">\n",
       "  <thead>\n",
       "    <tr style=\"text-align: right;\">\n",
       "      <th></th>\n",
       "      <th>price</th>\n",
       "      <th>construction year</th>\n",
       "      <th>building condition</th>\n",
       "      <th>asbestos certificate</th>\n",
       "      <th>living area</th>\n",
       "      <th>bedrooms</th>\n",
       "      <th>bathrooms</th>\n",
       "      <th>toilets</th>\n",
       "      <th>primary energy consumption</th>\n",
       "      <th>energy class</th>\n",
       "      <th>...</th>\n",
       "      <th>planning permission obtained</th>\n",
       "      <th>subdivision permit</th>\n",
       "      <th>possible priority purchase right</th>\n",
       "      <th>non-flood zone</th>\n",
       "      <th>g-score</th>\n",
       "      <th>shared building</th>\n",
       "      <th>surface of the plot</th>\n",
       "      <th>sewer network connection</th>\n",
       "      <th>designated land use</th>\n",
       "      <th>double glazing</th>\n",
       "    </tr>\n",
       "    <tr>\n",
       "      <th>uuid</th>\n",
       "      <th></th>\n",
       "      <th></th>\n",
       "      <th></th>\n",
       "      <th></th>\n",
       "      <th></th>\n",
       "      <th></th>\n",
       "      <th></th>\n",
       "      <th></th>\n",
       "      <th></th>\n",
       "      <th></th>\n",
       "      <th></th>\n",
       "      <th></th>\n",
       "      <th></th>\n",
       "      <th></th>\n",
       "      <th></th>\n",
       "      <th></th>\n",
       "      <th></th>\n",
       "      <th></th>\n",
       "      <th></th>\n",
       "      <th></th>\n",
       "      <th></th>\n",
       "    </tr>\n",
       "  </thead>\n",
       "  <tbody>\n",
       "    <tr>\n",
       "      <th>bff0933c-8706-450e-be72-df1c836eb396</th>\n",
       "      <td>765000.0</td>\n",
       "      <td>2015.0</td>\n",
       "      <td>1.0</td>\n",
       "      <td>0.0</td>\n",
       "      <td>171.0</td>\n",
       "      <td>2.0</td>\n",
       "      <td>1.0</td>\n",
       "      <td>2.0</td>\n",
       "      <td>102.0</td>\n",
       "      <td>4.0</td>\n",
       "      <td>...</td>\n",
       "      <td>1</td>\n",
       "      <td>0.0</td>\n",
       "      <td>1.0</td>\n",
       "      <td>1</td>\n",
       "      <td>1.0</td>\n",
       "      <td>0.0</td>\n",
       "      <td>NaN</td>\n",
       "      <td>NaN</td>\n",
       "      <td>NaN</td>\n",
       "      <td>NaN</td>\n",
       "    </tr>\n",
       "    <tr>\n",
       "      <th>48103edf-d945-4052-a349-31a1bdee8300</th>\n",
       "      <td>321477.0</td>\n",
       "      <td>NaN</td>\n",
       "      <td>NaN</td>\n",
       "      <td>NaN</td>\n",
       "      <td>NaN</td>\n",
       "      <td>NaN</td>\n",
       "      <td>NaN</td>\n",
       "      <td>NaN</td>\n",
       "      <td>NaN</td>\n",
       "      <td>NaN</td>\n",
       "      <td>...</td>\n",
       "      <td>0</td>\n",
       "      <td>NaN</td>\n",
       "      <td>NaN</td>\n",
       "      <td>0</td>\n",
       "      <td>NaN</td>\n",
       "      <td>NaN</td>\n",
       "      <td>NaN</td>\n",
       "      <td>NaN</td>\n",
       "      <td>NaN</td>\n",
       "      <td>NaN</td>\n",
       "    </tr>\n",
       "  </tbody>\n",
       "</table>\n",
       "<p>2 rows × 21 columns</p>\n",
       "</div>"
      ],
      "text/plain": [
       "                                         price  construction year  \\\n",
       "uuid                                                                \n",
       "bff0933c-8706-450e-be72-df1c836eb396  765000.0             2015.0   \n",
       "48103edf-d945-4052-a349-31a1bdee8300  321477.0                NaN   \n",
       "\n",
       "                                      building condition  \\\n",
       "uuid                                                       \n",
       "bff0933c-8706-450e-be72-df1c836eb396                 1.0   \n",
       "48103edf-d945-4052-a349-31a1bdee8300                 NaN   \n",
       "\n",
       "                                      asbestos certificate  living area  \\\n",
       "uuid                                                                      \n",
       "bff0933c-8706-450e-be72-df1c836eb396                   0.0        171.0   \n",
       "48103edf-d945-4052-a349-31a1bdee8300                   NaN          NaN   \n",
       "\n",
       "                                      bedrooms  bathrooms  toilets  \\\n",
       "uuid                                                                 \n",
       "bff0933c-8706-450e-be72-df1c836eb396       2.0        1.0      2.0   \n",
       "48103edf-d945-4052-a349-31a1bdee8300       NaN        NaN      NaN   \n",
       "\n",
       "                                      primary energy consumption  \\\n",
       "uuid                                                               \n",
       "bff0933c-8706-450e-be72-df1c836eb396                       102.0   \n",
       "48103edf-d945-4052-a349-31a1bdee8300                         NaN   \n",
       "\n",
       "                                      energy class  ...  \\\n",
       "uuid                                                ...   \n",
       "bff0933c-8706-450e-be72-df1c836eb396           4.0  ...   \n",
       "48103edf-d945-4052-a349-31a1bdee8300           NaN  ...   \n",
       "\n",
       "                                      planning permission obtained  \\\n",
       "uuid                                                                 \n",
       "bff0933c-8706-450e-be72-df1c836eb396                             1   \n",
       "48103edf-d945-4052-a349-31a1bdee8300                             0   \n",
       "\n",
       "                                      subdivision permit  \\\n",
       "uuid                                                       \n",
       "bff0933c-8706-450e-be72-df1c836eb396                 0.0   \n",
       "48103edf-d945-4052-a349-31a1bdee8300                 NaN   \n",
       "\n",
       "                                      possible priority purchase right  \\\n",
       "uuid                                                                     \n",
       "bff0933c-8706-450e-be72-df1c836eb396                               1.0   \n",
       "48103edf-d945-4052-a349-31a1bdee8300                               NaN   \n",
       "\n",
       "                                      non-flood zone  g-score  \\\n",
       "uuid                                                            \n",
       "bff0933c-8706-450e-be72-df1c836eb396               1      1.0   \n",
       "48103edf-d945-4052-a349-31a1bdee8300               0      NaN   \n",
       "\n",
       "                                      shared building  surface of the plot  \\\n",
       "uuid                                                                         \n",
       "bff0933c-8706-450e-be72-df1c836eb396              0.0                  NaN   \n",
       "48103edf-d945-4052-a349-31a1bdee8300              NaN                  NaN   \n",
       "\n",
       "                                      sewer network connection  \\\n",
       "uuid                                                             \n",
       "bff0933c-8706-450e-be72-df1c836eb396                       NaN   \n",
       "48103edf-d945-4052-a349-31a1bdee8300                       NaN   \n",
       "\n",
       "                                      designated land use  double glazing  \n",
       "uuid                                                                       \n",
       "bff0933c-8706-450e-be72-df1c836eb396                  NaN             NaN  \n",
       "48103edf-d945-4052-a349-31a1bdee8300                  NaN             NaN  \n",
       "\n",
       "[2 rows x 21 columns]"
      ]
     },
     "execution_count": 2,
     "metadata": {},
     "output_type": "execute_result"
    }
   ],
   "source": [
    "df = pd.read_parquet('../data/data_numerical.parquet', engine='pyarrow')\n",
    "# Drop address\n",
    "df.drop(columns='address', inplace=True)\n",
    "df.head(2)"
   ]
  },
  {
   "cell_type": "markdown",
   "id": "79ba2934",
   "metadata": {},
   "source": [
    "# Imputation"
   ]
  },
  {
   "cell_type": "code",
   "execution_count": null,
   "id": "4b438bb2",
   "metadata": {},
   "outputs": [],
   "source": [
    "from sklearn.pipeline import Pipeline, make_pipeline\n",
    "from sklearn.preprocessing import StandardScaler\n",
    "from sklearn.impute import KNNImputer\n",
    "from sklearn.model_selection import GridSearchCV\n",
    "from sklearn.neighbors import KNeighborsRegressor\n",
    "from sklearn.ensemble import RandomForestRegressor\n",
    "from xgboost import XGBRFRegressor"
   ]
  },
  {
   "cell_type": "code",
   "execution_count": 4,
   "id": "e2e57b53",
   "metadata": {},
   "outputs": [],
   "source": [
    "df_standardized = pd.DataFrame(StandardScaler().fit_transform(df), columns=df.columns)\n",
    "X_stand = df_standardized.drop(columns='price')\n",
    "y_stand = df_standardized['price']"
   ]
  },
  {
   "cell_type": "code",
   "execution_count": 5,
   "id": "7f67d717",
   "metadata": {},
   "outputs": [
    {
     "name": "stdout",
     "output_type": "stream",
     "text": [
      "Best n_neighbors for KNNImputer: 4\n",
      "Best RMSE: 0.667\n"
     ]
    }
   ],
   "source": [
    "# Build pipeline\n",
    "pipeline_impute = Pipeline([\n",
    "    ('imputer', KNNImputer()),\n",
    "    ('model', XGBRFRegressor())]) # insert model of choice\n",
    "\n",
    "# Determine optimal k for imputation\n",
    "param_grid = {'imputer__n_neighbors': list(range(1,5))}\n",
    "\n",
    "grid = GridSearchCV(pipeline_impute, param_grid, cv=10, scoring='neg_mean_squared_error')\n",
    "grid.fit(X_stand, y_stand)\n",
    "\n",
    "print(\"Best n_neighbors for KNNImputer:\", grid.best_params_['imputer__n_neighbors'])\n",
    "print(\"Best RMSE:\", round((-grid.best_score_)**0.5,3))"
   ]
  },
  {
   "cell_type": "code",
   "execution_count": 6,
   "id": "ebedafc2",
   "metadata": {},
   "outputs": [],
   "source": [
    "results_df = pd.DataFrame(grid.cv_results_)\n",
    "results_df = results_df[['param_imputer__n_neighbors', 'mean_test_score']].copy()\n",
    "results_df['RMSE'] = (-results_df['mean_test_score']) ** 0.5"
   ]
  },
  {
   "cell_type": "code",
   "execution_count": 7,
   "id": "ecf3bc0e",
   "metadata": {},
   "outputs": [
    {
     "data": {
      "application/vnd.plotly.v1+json": {
       "config": {
        "plotlyServerURL": "https://plotly.com"
       },
       "data": [
        {
         "hovertemplate": "Number of Neigbors (k)=%{x}<br>Cross-validated RMSE=%{y}<extra></extra>",
         "legendgroup": "",
         "line": {
          "color": "#636efa",
          "dash": "solid"
         },
         "marker": {
          "symbol": "circle"
         },
         "mode": "lines",
         "name": "",
         "orientation": "v",
         "showlegend": false,
         "type": "scatter",
         "x": {
          "bdata": "AQIDBA==",
          "dtype": "i1"
         },
         "xaxis": "x",
         "y": {
          "bdata": "Dj4BzQ5y5j+En8QZmWjlP1zHT4UsmeU/VJbEUiZb5T8=",
          "dtype": "f8"
         },
         "yaxis": "y"
        }
       ],
       "layout": {
        "legend": {
         "tracegroupgap": 0
        },
        "template": {
         "data": {
          "bar": [
           {
            "error_x": {
             "color": "#2a3f5f"
            },
            "error_y": {
             "color": "#2a3f5f"
            },
            "marker": {
             "line": {
              "color": "#E5ECF6",
              "width": 0.5
             },
             "pattern": {
              "fillmode": "overlay",
              "size": 10,
              "solidity": 0.2
             }
            },
            "type": "bar"
           }
          ],
          "barpolar": [
           {
            "marker": {
             "line": {
              "color": "#E5ECF6",
              "width": 0.5
             },
             "pattern": {
              "fillmode": "overlay",
              "size": 10,
              "solidity": 0.2
             }
            },
            "type": "barpolar"
           }
          ],
          "carpet": [
           {
            "aaxis": {
             "endlinecolor": "#2a3f5f",
             "gridcolor": "white",
             "linecolor": "white",
             "minorgridcolor": "white",
             "startlinecolor": "#2a3f5f"
            },
            "baxis": {
             "endlinecolor": "#2a3f5f",
             "gridcolor": "white",
             "linecolor": "white",
             "minorgridcolor": "white",
             "startlinecolor": "#2a3f5f"
            },
            "type": "carpet"
           }
          ],
          "choropleth": [
           {
            "colorbar": {
             "outlinewidth": 0,
             "ticks": ""
            },
            "type": "choropleth"
           }
          ],
          "contour": [
           {
            "colorbar": {
             "outlinewidth": 0,
             "ticks": ""
            },
            "colorscale": [
             [
              0,
              "#0d0887"
             ],
             [
              0.1111111111111111,
              "#46039f"
             ],
             [
              0.2222222222222222,
              "#7201a8"
             ],
             [
              0.3333333333333333,
              "#9c179e"
             ],
             [
              0.4444444444444444,
              "#bd3786"
             ],
             [
              0.5555555555555556,
              "#d8576b"
             ],
             [
              0.6666666666666666,
              "#ed7953"
             ],
             [
              0.7777777777777778,
              "#fb9f3a"
             ],
             [
              0.8888888888888888,
              "#fdca26"
             ],
             [
              1,
              "#f0f921"
             ]
            ],
            "type": "contour"
           }
          ],
          "contourcarpet": [
           {
            "colorbar": {
             "outlinewidth": 0,
             "ticks": ""
            },
            "type": "contourcarpet"
           }
          ],
          "heatmap": [
           {
            "colorbar": {
             "outlinewidth": 0,
             "ticks": ""
            },
            "colorscale": [
             [
              0,
              "#0d0887"
             ],
             [
              0.1111111111111111,
              "#46039f"
             ],
             [
              0.2222222222222222,
              "#7201a8"
             ],
             [
              0.3333333333333333,
              "#9c179e"
             ],
             [
              0.4444444444444444,
              "#bd3786"
             ],
             [
              0.5555555555555556,
              "#d8576b"
             ],
             [
              0.6666666666666666,
              "#ed7953"
             ],
             [
              0.7777777777777778,
              "#fb9f3a"
             ],
             [
              0.8888888888888888,
              "#fdca26"
             ],
             [
              1,
              "#f0f921"
             ]
            ],
            "type": "heatmap"
           }
          ],
          "histogram": [
           {
            "marker": {
             "pattern": {
              "fillmode": "overlay",
              "size": 10,
              "solidity": 0.2
             }
            },
            "type": "histogram"
           }
          ],
          "histogram2d": [
           {
            "colorbar": {
             "outlinewidth": 0,
             "ticks": ""
            },
            "colorscale": [
             [
              0,
              "#0d0887"
             ],
             [
              0.1111111111111111,
              "#46039f"
             ],
             [
              0.2222222222222222,
              "#7201a8"
             ],
             [
              0.3333333333333333,
              "#9c179e"
             ],
             [
              0.4444444444444444,
              "#bd3786"
             ],
             [
              0.5555555555555556,
              "#d8576b"
             ],
             [
              0.6666666666666666,
              "#ed7953"
             ],
             [
              0.7777777777777778,
              "#fb9f3a"
             ],
             [
              0.8888888888888888,
              "#fdca26"
             ],
             [
              1,
              "#f0f921"
             ]
            ],
            "type": "histogram2d"
           }
          ],
          "histogram2dcontour": [
           {
            "colorbar": {
             "outlinewidth": 0,
             "ticks": ""
            },
            "colorscale": [
             [
              0,
              "#0d0887"
             ],
             [
              0.1111111111111111,
              "#46039f"
             ],
             [
              0.2222222222222222,
              "#7201a8"
             ],
             [
              0.3333333333333333,
              "#9c179e"
             ],
             [
              0.4444444444444444,
              "#bd3786"
             ],
             [
              0.5555555555555556,
              "#d8576b"
             ],
             [
              0.6666666666666666,
              "#ed7953"
             ],
             [
              0.7777777777777778,
              "#fb9f3a"
             ],
             [
              0.8888888888888888,
              "#fdca26"
             ],
             [
              1,
              "#f0f921"
             ]
            ],
            "type": "histogram2dcontour"
           }
          ],
          "mesh3d": [
           {
            "colorbar": {
             "outlinewidth": 0,
             "ticks": ""
            },
            "type": "mesh3d"
           }
          ],
          "parcoords": [
           {
            "line": {
             "colorbar": {
              "outlinewidth": 0,
              "ticks": ""
             }
            },
            "type": "parcoords"
           }
          ],
          "pie": [
           {
            "automargin": true,
            "type": "pie"
           }
          ],
          "scatter": [
           {
            "fillpattern": {
             "fillmode": "overlay",
             "size": 10,
             "solidity": 0.2
            },
            "type": "scatter"
           }
          ],
          "scatter3d": [
           {
            "line": {
             "colorbar": {
              "outlinewidth": 0,
              "ticks": ""
             }
            },
            "marker": {
             "colorbar": {
              "outlinewidth": 0,
              "ticks": ""
             }
            },
            "type": "scatter3d"
           }
          ],
          "scattercarpet": [
           {
            "marker": {
             "colorbar": {
              "outlinewidth": 0,
              "ticks": ""
             }
            },
            "type": "scattercarpet"
           }
          ],
          "scattergeo": [
           {
            "marker": {
             "colorbar": {
              "outlinewidth": 0,
              "ticks": ""
             }
            },
            "type": "scattergeo"
           }
          ],
          "scattergl": [
           {
            "marker": {
             "colorbar": {
              "outlinewidth": 0,
              "ticks": ""
             }
            },
            "type": "scattergl"
           }
          ],
          "scattermap": [
           {
            "marker": {
             "colorbar": {
              "outlinewidth": 0,
              "ticks": ""
             }
            },
            "type": "scattermap"
           }
          ],
          "scattermapbox": [
           {
            "marker": {
             "colorbar": {
              "outlinewidth": 0,
              "ticks": ""
             }
            },
            "type": "scattermapbox"
           }
          ],
          "scatterpolar": [
           {
            "marker": {
             "colorbar": {
              "outlinewidth": 0,
              "ticks": ""
             }
            },
            "type": "scatterpolar"
           }
          ],
          "scatterpolargl": [
           {
            "marker": {
             "colorbar": {
              "outlinewidth": 0,
              "ticks": ""
             }
            },
            "type": "scatterpolargl"
           }
          ],
          "scatterternary": [
           {
            "marker": {
             "colorbar": {
              "outlinewidth": 0,
              "ticks": ""
             }
            },
            "type": "scatterternary"
           }
          ],
          "surface": [
           {
            "colorbar": {
             "outlinewidth": 0,
             "ticks": ""
            },
            "colorscale": [
             [
              0,
              "#0d0887"
             ],
             [
              0.1111111111111111,
              "#46039f"
             ],
             [
              0.2222222222222222,
              "#7201a8"
             ],
             [
              0.3333333333333333,
              "#9c179e"
             ],
             [
              0.4444444444444444,
              "#bd3786"
             ],
             [
              0.5555555555555556,
              "#d8576b"
             ],
             [
              0.6666666666666666,
              "#ed7953"
             ],
             [
              0.7777777777777778,
              "#fb9f3a"
             ],
             [
              0.8888888888888888,
              "#fdca26"
             ],
             [
              1,
              "#f0f921"
             ]
            ],
            "type": "surface"
           }
          ],
          "table": [
           {
            "cells": {
             "fill": {
              "color": "#EBF0F8"
             },
             "line": {
              "color": "white"
             }
            },
            "header": {
             "fill": {
              "color": "#C8D4E3"
             },
             "line": {
              "color": "white"
             }
            },
            "type": "table"
           }
          ]
         },
         "layout": {
          "annotationdefaults": {
           "arrowcolor": "#2a3f5f",
           "arrowhead": 0,
           "arrowwidth": 1
          },
          "autotypenumbers": "strict",
          "coloraxis": {
           "colorbar": {
            "outlinewidth": 0,
            "ticks": ""
           }
          },
          "colorscale": {
           "diverging": [
            [
             0,
             "#8e0152"
            ],
            [
             0.1,
             "#c51b7d"
            ],
            [
             0.2,
             "#de77ae"
            ],
            [
             0.3,
             "#f1b6da"
            ],
            [
             0.4,
             "#fde0ef"
            ],
            [
             0.5,
             "#f7f7f7"
            ],
            [
             0.6,
             "#e6f5d0"
            ],
            [
             0.7,
             "#b8e186"
            ],
            [
             0.8,
             "#7fbc41"
            ],
            [
             0.9,
             "#4d9221"
            ],
            [
             1,
             "#276419"
            ]
           ],
           "sequential": [
            [
             0,
             "#0d0887"
            ],
            [
             0.1111111111111111,
             "#46039f"
            ],
            [
             0.2222222222222222,
             "#7201a8"
            ],
            [
             0.3333333333333333,
             "#9c179e"
            ],
            [
             0.4444444444444444,
             "#bd3786"
            ],
            [
             0.5555555555555556,
             "#d8576b"
            ],
            [
             0.6666666666666666,
             "#ed7953"
            ],
            [
             0.7777777777777778,
             "#fb9f3a"
            ],
            [
             0.8888888888888888,
             "#fdca26"
            ],
            [
             1,
             "#f0f921"
            ]
           ],
           "sequentialminus": [
            [
             0,
             "#0d0887"
            ],
            [
             0.1111111111111111,
             "#46039f"
            ],
            [
             0.2222222222222222,
             "#7201a8"
            ],
            [
             0.3333333333333333,
             "#9c179e"
            ],
            [
             0.4444444444444444,
             "#bd3786"
            ],
            [
             0.5555555555555556,
             "#d8576b"
            ],
            [
             0.6666666666666666,
             "#ed7953"
            ],
            [
             0.7777777777777778,
             "#fb9f3a"
            ],
            [
             0.8888888888888888,
             "#fdca26"
            ],
            [
             1,
             "#f0f921"
            ]
           ]
          },
          "colorway": [
           "#636efa",
           "#EF553B",
           "#00cc96",
           "#ab63fa",
           "#FFA15A",
           "#19d3f3",
           "#FF6692",
           "#B6E880",
           "#FF97FF",
           "#FECB52"
          ],
          "font": {
           "color": "#2a3f5f"
          },
          "geo": {
           "bgcolor": "white",
           "lakecolor": "white",
           "landcolor": "#E5ECF6",
           "showlakes": true,
           "showland": true,
           "subunitcolor": "white"
          },
          "hoverlabel": {
           "align": "left"
          },
          "hovermode": "closest",
          "mapbox": {
           "style": "light"
          },
          "paper_bgcolor": "white",
          "plot_bgcolor": "#E5ECF6",
          "polar": {
           "angularaxis": {
            "gridcolor": "white",
            "linecolor": "white",
            "ticks": ""
           },
           "bgcolor": "#E5ECF6",
           "radialaxis": {
            "gridcolor": "white",
            "linecolor": "white",
            "ticks": ""
           }
          },
          "scene": {
           "xaxis": {
            "backgroundcolor": "#E5ECF6",
            "gridcolor": "white",
            "gridwidth": 2,
            "linecolor": "white",
            "showbackground": true,
            "ticks": "",
            "zerolinecolor": "white"
           },
           "yaxis": {
            "backgroundcolor": "#E5ECF6",
            "gridcolor": "white",
            "gridwidth": 2,
            "linecolor": "white",
            "showbackground": true,
            "ticks": "",
            "zerolinecolor": "white"
           },
           "zaxis": {
            "backgroundcolor": "#E5ECF6",
            "gridcolor": "white",
            "gridwidth": 2,
            "linecolor": "white",
            "showbackground": true,
            "ticks": "",
            "zerolinecolor": "white"
           }
          },
          "shapedefaults": {
           "line": {
            "color": "#2a3f5f"
           }
          },
          "ternary": {
           "aaxis": {
            "gridcolor": "white",
            "linecolor": "white",
            "ticks": ""
           },
           "baxis": {
            "gridcolor": "white",
            "linecolor": "white",
            "ticks": ""
           },
           "bgcolor": "#E5ECF6",
           "caxis": {
            "gridcolor": "white",
            "linecolor": "white",
            "ticks": ""
           }
          },
          "title": {
           "x": 0.05
          },
          "xaxis": {
           "automargin": true,
           "gridcolor": "white",
           "linecolor": "white",
           "ticks": "",
           "title": {
            "standoff": 15
           },
           "zerolinecolor": "white",
           "zerolinewidth": 2
          },
          "yaxis": {
           "automargin": true,
           "gridcolor": "white",
           "linecolor": "white",
           "ticks": "",
           "title": {
            "standoff": 15
           },
           "zerolinecolor": "white",
           "zerolinewidth": 2
          }
         }
        },
        "title": {
         "text": "Model Performance vs. Number of Neighbors"
        },
        "xaxis": {
         "anchor": "y",
         "domain": [
          0,
          1
         ],
         "dtick": 1,
         "range": [
          0,
          5
         ],
         "tick0": 1,
         "title": {
          "text": "Number of Neigbors (k)"
         }
        },
        "yaxis": {
         "anchor": "x",
         "domain": [
          0,
          1
         ],
         "title": {
          "text": "Cross-validated RMSE"
         }
        }
       }
      }
     },
     "metadata": {},
     "output_type": "display_data"
    }
   ],
   "source": [
    "# Determine number of neigbors based on R^2\n",
    "fig = px.line(\n",
    "    results_df,\n",
    "    x='param_imputer__n_neighbors',\n",
    "    y='RMSE',\n",
    "    # markers=True,\n",
    "    title='Model Performance vs. Number of Neighbors',\n",
    "    labels={'param_imputer__n_neighbors': 'Number of Neigbors (k)', 'RMSE': 'Cross-validated RMSE'}\n",
    ")\n",
    "fig.update_xaxes(tick0=1, dtick=1, range=[0,5])    \n",
    "fig.show()  "
   ]
  },
  {
   "cell_type": "code",
   "execution_count": 8,
   "id": "9f260c3e",
   "metadata": {},
   "outputs": [
    {
     "data": {
      "text/html": [
       "<div>\n",
       "<style scoped>\n",
       "    .dataframe tbody tr th:only-of-type {\n",
       "        vertical-align: middle;\n",
       "    }\n",
       "\n",
       "    .dataframe tbody tr th {\n",
       "        vertical-align: top;\n",
       "    }\n",
       "\n",
       "    .dataframe thead th {\n",
       "        text-align: right;\n",
       "    }\n",
       "</style>\n",
       "<table border=\"1\" class=\"dataframe\">\n",
       "  <thead>\n",
       "    <tr style=\"text-align: right;\">\n",
       "      <th></th>\n",
       "      <th>price</th>\n",
       "      <th>construction year</th>\n",
       "      <th>building condition</th>\n",
       "      <th>asbestos certificate</th>\n",
       "      <th>living area</th>\n",
       "      <th>bedrooms</th>\n",
       "      <th>bathrooms</th>\n",
       "      <th>toilets</th>\n",
       "      <th>primary energy consumption</th>\n",
       "      <th>energy class</th>\n",
       "      <th>...</th>\n",
       "      <th>planning permission obtained</th>\n",
       "      <th>subdivision permit</th>\n",
       "      <th>possible priority purchase right</th>\n",
       "      <th>non-flood zone</th>\n",
       "      <th>g-score</th>\n",
       "      <th>shared building</th>\n",
       "      <th>surface of the plot</th>\n",
       "      <th>sewer network connection</th>\n",
       "      <th>designated land use</th>\n",
       "      <th>double glazing</th>\n",
       "    </tr>\n",
       "  </thead>\n",
       "  <tbody>\n",
       "    <tr>\n",
       "      <th>0</th>\n",
       "      <td>1.236413</td>\n",
       "      <td>1.035587</td>\n",
       "      <td>-1.704509</td>\n",
       "      <td>-1.095445</td>\n",
       "      <td>-0.180256</td>\n",
       "      <td>-0.910142</td>\n",
       "      <td>-0.341810</td>\n",
       "      <td>0.199653</td>\n",
       "      <td>-0.079678</td>\n",
       "      <td>-0.795582</td>\n",
       "      <td>...</td>\n",
       "      <td>0.818453</td>\n",
       "      <td>-0.602303</td>\n",
       "      <td>2.472319</td>\n",
       "      <td>0.692526</td>\n",
       "      <td>-0.524604</td>\n",
       "      <td>-0.263237</td>\n",
       "      <td>-0.237682</td>\n",
       "      <td>0.154471</td>\n",
       "      <td>-0.471694</td>\n",
       "      <td>0.201285</td>\n",
       "    </tr>\n",
       "    <tr>\n",
       "      <th>1</th>\n",
       "      <td>-0.503011</td>\n",
       "      <td>0.129029</td>\n",
       "      <td>0.733365</td>\n",
       "      <td>0.410792</td>\n",
       "      <td>-0.163465</td>\n",
       "      <td>0.554041</td>\n",
       "      <td>-0.341810</td>\n",
       "      <td>0.774331</td>\n",
       "      <td>0.025463</td>\n",
       "      <td>1.229257</td>\n",
       "      <td>...</td>\n",
       "      <td>-1.221817</td>\n",
       "      <td>1.094645</td>\n",
       "      <td>-0.404479</td>\n",
       "      <td>-1.443990</td>\n",
       "      <td>-0.266026</td>\n",
       "      <td>0.752289</td>\n",
       "      <td>-0.045844</td>\n",
       "      <td>0.154471</td>\n",
       "      <td>-0.342735</td>\n",
       "      <td>0.201285</td>\n",
       "    </tr>\n",
       "    <tr>\n",
       "      <th>2</th>\n",
       "      <td>2.079607</td>\n",
       "      <td>0.063852</td>\n",
       "      <td>0.068490</td>\n",
       "      <td>0.912871</td>\n",
       "      <td>0.133170</td>\n",
       "      <td>1.286132</td>\n",
       "      <td>-0.341810</td>\n",
       "      <td>0.199653</td>\n",
       "      <td>-0.058650</td>\n",
       "      <td>-0.217056</td>\n",
       "      <td>...</td>\n",
       "      <td>0.818453</td>\n",
       "      <td>1.094645</td>\n",
       "      <td>-0.404479</td>\n",
       "      <td>0.692526</td>\n",
       "      <td>-0.524604</td>\n",
       "      <td>3.798865</td>\n",
       "      <td>1.891646</td>\n",
       "      <td>0.154471</td>\n",
       "      <td>-0.471694</td>\n",
       "      <td>0.201285</td>\n",
       "    </tr>\n",
       "    <tr>\n",
       "      <th>3</th>\n",
       "      <td>-0.018574</td>\n",
       "      <td>1.201493</td>\n",
       "      <td>-1.704509</td>\n",
       "      <td>0.410792</td>\n",
       "      <td>-0.822033</td>\n",
       "      <td>-0.910142</td>\n",
       "      <td>-0.341810</td>\n",
       "      <td>-0.949702</td>\n",
       "      <td>-0.075766</td>\n",
       "      <td>-1.374107</td>\n",
       "      <td>...</td>\n",
       "      <td>0.818453</td>\n",
       "      <td>-0.602303</td>\n",
       "      <td>2.472319</td>\n",
       "      <td>0.692526</td>\n",
       "      <td>-0.007447</td>\n",
       "      <td>-0.263237</td>\n",
       "      <td>-0.246484</td>\n",
       "      <td>0.154471</td>\n",
       "      <td>-0.471694</td>\n",
       "      <td>0.201285</td>\n",
       "    </tr>\n",
       "    <tr>\n",
       "      <th>4</th>\n",
       "      <td>-0.469586</td>\n",
       "      <td>-1.713713</td>\n",
       "      <td>0.068490</td>\n",
       "      <td>-0.593366</td>\n",
       "      <td>-0.575770</td>\n",
       "      <td>-0.178051</td>\n",
       "      <td>-0.341810</td>\n",
       "      <td>-0.949702</td>\n",
       "      <td>-0.069083</td>\n",
       "      <td>-0.795582</td>\n",
       "      <td>...</td>\n",
       "      <td>-1.221817</td>\n",
       "      <td>-0.602303</td>\n",
       "      <td>-0.404479</td>\n",
       "      <td>0.692526</td>\n",
       "      <td>-0.524604</td>\n",
       "      <td>-0.263237</td>\n",
       "      <td>-0.357206</td>\n",
       "      <td>0.154471</td>\n",
       "      <td>0.044145</td>\n",
       "      <td>0.201285</td>\n",
       "    </tr>\n",
       "    <tr>\n",
       "      <th>...</th>\n",
       "      <td>...</td>\n",
       "      <td>...</td>\n",
       "      <td>...</td>\n",
       "      <td>...</td>\n",
       "      <td>...</td>\n",
       "      <td>...</td>\n",
       "      <td>...</td>\n",
       "      <td>...</td>\n",
       "      <td>...</td>\n",
       "      <td>...</td>\n",
       "      <td>...</td>\n",
       "      <td>...</td>\n",
       "      <td>...</td>\n",
       "      <td>...</td>\n",
       "      <td>...</td>\n",
       "      <td>...</td>\n",
       "      <td>...</td>\n",
       "      <td>...</td>\n",
       "      <td>...</td>\n",
       "      <td>...</td>\n",
       "      <td>...</td>\n",
       "    </tr>\n",
       "    <tr>\n",
       "      <th>865</th>\n",
       "      <td>-0.332321</td>\n",
       "      <td>-0.546445</td>\n",
       "      <td>-1.704509</td>\n",
       "      <td>-0.593366</td>\n",
       "      <td>-0.225031</td>\n",
       "      <td>0.554041</td>\n",
       "      <td>0.928499</td>\n",
       "      <td>1.349008</td>\n",
       "      <td>-0.065660</td>\n",
       "      <td>-0.795582</td>\n",
       "      <td>...</td>\n",
       "      <td>0.818453</td>\n",
       "      <td>-0.602303</td>\n",
       "      <td>-0.404479</td>\n",
       "      <td>0.692526</td>\n",
       "      <td>1.544025</td>\n",
       "      <td>3.798865</td>\n",
       "      <td>-0.318799</td>\n",
       "      <td>0.154471</td>\n",
       "      <td>-0.471694</td>\n",
       "      <td>0.201285</td>\n",
       "    </tr>\n",
       "    <tr>\n",
       "      <th>866</th>\n",
       "      <td>-0.685286</td>\n",
       "      <td>-1.263396</td>\n",
       "      <td>0.068490</td>\n",
       "      <td>0.912871</td>\n",
       "      <td>-0.896658</td>\n",
       "      <td>-1.642234</td>\n",
       "      <td>-0.341810</td>\n",
       "      <td>-0.949702</td>\n",
       "      <td>-0.063867</td>\n",
       "      <td>-0.795582</td>\n",
       "      <td>...</td>\n",
       "      <td>0.818453</td>\n",
       "      <td>-0.602303</td>\n",
       "      <td>2.472319</td>\n",
       "      <td>0.692526</td>\n",
       "      <td>-0.524604</td>\n",
       "      <td>-0.263237</td>\n",
       "      <td>-0.342803</td>\n",
       "      <td>0.154471</td>\n",
       "      <td>-0.471694</td>\n",
       "      <td>0.201285</td>\n",
       "    </tr>\n",
       "    <tr>\n",
       "      <th>867</th>\n",
       "      <td>-0.669599</td>\n",
       "      <td>-1.144892</td>\n",
       "      <td>1.841490</td>\n",
       "      <td>-1.095445</td>\n",
       "      <td>-0.336969</td>\n",
       "      <td>-0.178051</td>\n",
       "      <td>0.928499</td>\n",
       "      <td>-0.949702</td>\n",
       "      <td>-0.033547</td>\n",
       "      <td>0.361469</td>\n",
       "      <td>...</td>\n",
       "      <td>-1.221817</td>\n",
       "      <td>-0.602303</td>\n",
       "      <td>-0.404479</td>\n",
       "      <td>0.692526</td>\n",
       "      <td>-0.524604</td>\n",
       "      <td>-0.263237</td>\n",
       "      <td>-0.281591</td>\n",
       "      <td>0.154471</td>\n",
       "      <td>-0.471694</td>\n",
       "      <td>0.201285</td>\n",
       "    </tr>\n",
       "    <tr>\n",
       "      <th>868</th>\n",
       "      <td>0.534847</td>\n",
       "      <td>0.395664</td>\n",
       "      <td>0.068490</td>\n",
       "      <td>-1.095445</td>\n",
       "      <td>0.103319</td>\n",
       "      <td>-0.178051</td>\n",
       "      <td>-0.341810</td>\n",
       "      <td>0.199653</td>\n",
       "      <td>-0.036807</td>\n",
       "      <td>-0.650950</td>\n",
       "      <td>...</td>\n",
       "      <td>-1.221817</td>\n",
       "      <td>1.094645</td>\n",
       "      <td>-0.404479</td>\n",
       "      <td>-1.443990</td>\n",
       "      <td>-0.266026</td>\n",
       "      <td>-0.263237</td>\n",
       "      <td>-0.127560</td>\n",
       "      <td>0.154471</td>\n",
       "      <td>0.044145</td>\n",
       "      <td>0.201285</td>\n",
       "    </tr>\n",
       "    <tr>\n",
       "      <th>869</th>\n",
       "      <td>-0.214666</td>\n",
       "      <td>0.632672</td>\n",
       "      <td>0.068490</td>\n",
       "      <td>0.912871</td>\n",
       "      <td>-0.448907</td>\n",
       "      <td>-0.178051</td>\n",
       "      <td>-0.341810</td>\n",
       "      <td>-0.087686</td>\n",
       "      <td>-0.078537</td>\n",
       "      <td>-0.795582</td>\n",
       "      <td>...</td>\n",
       "      <td>0.818453</td>\n",
       "      <td>-0.602303</td>\n",
       "      <td>-0.404479</td>\n",
       "      <td>0.692526</td>\n",
       "      <td>-0.524604</td>\n",
       "      <td>-0.263237</td>\n",
       "      <td>-0.158766</td>\n",
       "      <td>0.154471</td>\n",
       "      <td>0.044145</td>\n",
       "      <td>0.201285</td>\n",
       "    </tr>\n",
       "  </tbody>\n",
       "</table>\n",
       "<p>870 rows × 21 columns</p>\n",
       "</div>"
      ],
      "text/plain": [
       "        price  construction year  building condition  asbestos certificate  \\\n",
       "0    1.236413           1.035587           -1.704509             -1.095445   \n",
       "1   -0.503011           0.129029            0.733365              0.410792   \n",
       "2    2.079607           0.063852            0.068490              0.912871   \n",
       "3   -0.018574           1.201493           -1.704509              0.410792   \n",
       "4   -0.469586          -1.713713            0.068490             -0.593366   \n",
       "..        ...                ...                 ...                   ...   \n",
       "865 -0.332321          -0.546445           -1.704509             -0.593366   \n",
       "866 -0.685286          -1.263396            0.068490              0.912871   \n",
       "867 -0.669599          -1.144892            1.841490             -1.095445   \n",
       "868  0.534847           0.395664            0.068490             -1.095445   \n",
       "869 -0.214666           0.632672            0.068490              0.912871   \n",
       "\n",
       "     living area  bedrooms  bathrooms   toilets  primary energy consumption  \\\n",
       "0      -0.180256 -0.910142  -0.341810  0.199653                   -0.079678   \n",
       "1      -0.163465  0.554041  -0.341810  0.774331                    0.025463   \n",
       "2       0.133170  1.286132  -0.341810  0.199653                   -0.058650   \n",
       "3      -0.822033 -0.910142  -0.341810 -0.949702                   -0.075766   \n",
       "4      -0.575770 -0.178051  -0.341810 -0.949702                   -0.069083   \n",
       "..           ...       ...        ...       ...                         ...   \n",
       "865    -0.225031  0.554041   0.928499  1.349008                   -0.065660   \n",
       "866    -0.896658 -1.642234  -0.341810 -0.949702                   -0.063867   \n",
       "867    -0.336969 -0.178051   0.928499 -0.949702                   -0.033547   \n",
       "868     0.103319 -0.178051  -0.341810  0.199653                   -0.036807   \n",
       "869    -0.448907 -0.178051  -0.341810 -0.087686                   -0.078537   \n",
       "\n",
       "     energy class  ...  planning permission obtained  subdivision permit  \\\n",
       "0       -0.795582  ...                      0.818453           -0.602303   \n",
       "1        1.229257  ...                     -1.221817            1.094645   \n",
       "2       -0.217056  ...                      0.818453            1.094645   \n",
       "3       -1.374107  ...                      0.818453           -0.602303   \n",
       "4       -0.795582  ...                     -1.221817           -0.602303   \n",
       "..            ...  ...                           ...                 ...   \n",
       "865     -0.795582  ...                      0.818453           -0.602303   \n",
       "866     -0.795582  ...                      0.818453           -0.602303   \n",
       "867      0.361469  ...                     -1.221817           -0.602303   \n",
       "868     -0.650950  ...                     -1.221817            1.094645   \n",
       "869     -0.795582  ...                      0.818453           -0.602303   \n",
       "\n",
       "     possible priority purchase right  non-flood zone   g-score  \\\n",
       "0                            2.472319        0.692526 -0.524604   \n",
       "1                           -0.404479       -1.443990 -0.266026   \n",
       "2                           -0.404479        0.692526 -0.524604   \n",
       "3                            2.472319        0.692526 -0.007447   \n",
       "4                           -0.404479        0.692526 -0.524604   \n",
       "..                                ...             ...       ...   \n",
       "865                         -0.404479        0.692526  1.544025   \n",
       "866                          2.472319        0.692526 -0.524604   \n",
       "867                         -0.404479        0.692526 -0.524604   \n",
       "868                         -0.404479       -1.443990 -0.266026   \n",
       "869                         -0.404479        0.692526 -0.524604   \n",
       "\n",
       "     shared building  surface of the plot  sewer network connection  \\\n",
       "0          -0.263237            -0.237682                  0.154471   \n",
       "1           0.752289            -0.045844                  0.154471   \n",
       "2           3.798865             1.891646                  0.154471   \n",
       "3          -0.263237            -0.246484                  0.154471   \n",
       "4          -0.263237            -0.357206                  0.154471   \n",
       "..               ...                  ...                       ...   \n",
       "865         3.798865            -0.318799                  0.154471   \n",
       "866        -0.263237            -0.342803                  0.154471   \n",
       "867        -0.263237            -0.281591                  0.154471   \n",
       "868        -0.263237            -0.127560                  0.154471   \n",
       "869        -0.263237            -0.158766                  0.154471   \n",
       "\n",
       "     designated land use  double glazing  \n",
       "0              -0.471694        0.201285  \n",
       "1              -0.342735        0.201285  \n",
       "2              -0.471694        0.201285  \n",
       "3              -0.471694        0.201285  \n",
       "4               0.044145        0.201285  \n",
       "..                   ...             ...  \n",
       "865            -0.471694        0.201285  \n",
       "866            -0.471694        0.201285  \n",
       "867            -0.471694        0.201285  \n",
       "868             0.044145        0.201285  \n",
       "869             0.044145        0.201285  \n",
       "\n",
       "[870 rows x 21 columns]"
      ]
     },
     "execution_count": 8,
     "metadata": {},
     "output_type": "execute_result"
    }
   ],
   "source": [
    "# Impute with KNN and k=4\n",
    "pipeline = make_pipeline(KNNImputer(n_neighbors=4)\n",
    ")\n",
    "\n",
    "df_imputed = pd.DataFrame(pipeline.fit_transform(df_standardized), columns=df.columns)\n",
    "df_imputed"
   ]
  },
  {
   "cell_type": "code",
   "execution_count": 9,
   "id": "44da7a89",
   "metadata": {},
   "outputs": [],
   "source": [
    "# prep\n",
    "from sklearn.model_selection import train_test_split\n",
    "\n",
    "# feature selection\n",
    "from sklearn.feature_selection import SelectKBest, mutual_info_regression\n",
    "from sklearn.model_selection import cross_val_score\n"
   ]
  },
  {
   "cell_type": "code",
   "execution_count": 10,
   "id": "df85142d",
   "metadata": {},
   "outputs": [],
   "source": [
    "X_imputed = df_imputed.drop(columns='price')\n",
    "y_imputed = df_imputed['price']\n",
    "\n",
    "X_train, X_test, y_train, y_test = train_test_split(\n",
    "    X_imputed, y_imputed,\n",
    "    test_size=0.2,        \n",
    "    random_state=2025,       \n",
    ")"
   ]
  },
  {
   "cell_type": "code",
   "execution_count": 11,
   "id": "04c960ec",
   "metadata": {},
   "outputs": [
    {
     "data": {
      "text/html": [
       "<div>\n",
       "<style scoped>\n",
       "    .dataframe tbody tr th:only-of-type {\n",
       "        vertical-align: middle;\n",
       "    }\n",
       "\n",
       "    .dataframe tbody tr th {\n",
       "        vertical-align: top;\n",
       "    }\n",
       "\n",
       "    .dataframe thead th {\n",
       "        text-align: right;\n",
       "    }\n",
       "</style>\n",
       "<table border=\"1\" class=\"dataframe\">\n",
       "  <thead>\n",
       "    <tr style=\"text-align: right;\">\n",
       "      <th></th>\n",
       "      <th>k</th>\n",
       "      <th>cv_score</th>\n",
       "    </tr>\n",
       "  </thead>\n",
       "  <tbody>\n",
       "    <tr>\n",
       "      <th>12</th>\n",
       "      <td>13</td>\n",
       "      <td>0.636337</td>\n",
       "    </tr>\n",
       "    <tr>\n",
       "      <th>16</th>\n",
       "      <td>17</td>\n",
       "      <td>0.635753</td>\n",
       "    </tr>\n",
       "    <tr>\n",
       "      <th>11</th>\n",
       "      <td>12</td>\n",
       "      <td>0.633010</td>\n",
       "    </tr>\n",
       "    <tr>\n",
       "      <th>7</th>\n",
       "      <td>8</td>\n",
       "      <td>0.632796</td>\n",
       "    </tr>\n",
       "    <tr>\n",
       "      <th>6</th>\n",
       "      <td>7</td>\n",
       "      <td>0.631413</td>\n",
       "    </tr>\n",
       "    <tr>\n",
       "      <th>19</th>\n",
       "      <td>20</td>\n",
       "      <td>0.627061</td>\n",
       "    </tr>\n",
       "    <tr>\n",
       "      <th>13</th>\n",
       "      <td>14</td>\n",
       "      <td>0.626919</td>\n",
       "    </tr>\n",
       "    <tr>\n",
       "      <th>8</th>\n",
       "      <td>9</td>\n",
       "      <td>0.626518</td>\n",
       "    </tr>\n",
       "    <tr>\n",
       "      <th>5</th>\n",
       "      <td>6</td>\n",
       "      <td>0.625687</td>\n",
       "    </tr>\n",
       "    <tr>\n",
       "      <th>14</th>\n",
       "      <td>15</td>\n",
       "      <td>0.625032</td>\n",
       "    </tr>\n",
       "    <tr>\n",
       "      <th>10</th>\n",
       "      <td>11</td>\n",
       "      <td>0.623489</td>\n",
       "    </tr>\n",
       "    <tr>\n",
       "      <th>15</th>\n",
       "      <td>16</td>\n",
       "      <td>0.622697</td>\n",
       "    </tr>\n",
       "    <tr>\n",
       "      <th>17</th>\n",
       "      <td>18</td>\n",
       "      <td>0.621134</td>\n",
       "    </tr>\n",
       "    <tr>\n",
       "      <th>18</th>\n",
       "      <td>19</td>\n",
       "      <td>0.618021</td>\n",
       "    </tr>\n",
       "    <tr>\n",
       "      <th>9</th>\n",
       "      <td>10</td>\n",
       "      <td>0.616756</td>\n",
       "    </tr>\n",
       "    <tr>\n",
       "      <th>4</th>\n",
       "      <td>5</td>\n",
       "      <td>0.606268</td>\n",
       "    </tr>\n",
       "    <tr>\n",
       "      <th>3</th>\n",
       "      <td>4</td>\n",
       "      <td>0.582636</td>\n",
       "    </tr>\n",
       "    <tr>\n",
       "      <th>2</th>\n",
       "      <td>3</td>\n",
       "      <td>0.406058</td>\n",
       "    </tr>\n",
       "    <tr>\n",
       "      <th>1</th>\n",
       "      <td>2</td>\n",
       "      <td>0.373757</td>\n",
       "    </tr>\n",
       "    <tr>\n",
       "      <th>0</th>\n",
       "      <td>1</td>\n",
       "      <td>0.142762</td>\n",
       "    </tr>\n",
       "  </tbody>\n",
       "</table>\n",
       "</div>"
      ],
      "text/plain": [
       "     k  cv_score\n",
       "12  13  0.636337\n",
       "16  17  0.635753\n",
       "11  12  0.633010\n",
       "7    8  0.632796\n",
       "6    7  0.631413\n",
       "19  20  0.627061\n",
       "13  14  0.626919\n",
       "8    9  0.626518\n",
       "5    6  0.625687\n",
       "14  15  0.625032\n",
       "10  11  0.623489\n",
       "15  16  0.622697\n",
       "17  18  0.621134\n",
       "18  19  0.618021\n",
       "9   10  0.616756\n",
       "4    5  0.606268\n",
       "3    4  0.582636\n",
       "2    3  0.406058\n",
       "1    2  0.373757\n",
       "0    1  0.142762"
      ]
     },
     "execution_count": 11,
     "metadata": {},
     "output_type": "execute_result"
    }
   ],
   "source": [
    "results = []\n",
    "for k in range(1, X_train.shape[1] + 1):\n",
    "    selector = SelectKBest(score_func=mutual_info_regression, k=k)\n",
    "    X_selected = selector.fit_transform(X_imputed, y_imputed)\n",
    "    score = cross_val_score(RandomForestRegressor(), X_selected, y_stand, cv=10, scoring='r2').mean() # insert model of choice\n",
    "    results.append((k, score))\n",
    "\n",
    "# Pass results to df for easier manipulation\n",
    "df = pd.DataFrame(results, columns=[\"k\", \"cv_score\"])\n",
    "df.sort_values(\"cv_score\", ascending=False)"
   ]
  },
  {
   "cell_type": "code",
   "execution_count": 12,
   "id": "5341f90c",
   "metadata": {},
   "outputs": [
    {
     "data": {
      "application/vnd.plotly.v1+json": {
       "config": {
        "plotlyServerURL": "https://plotly.com"
       },
       "data": [
        {
         "hovertemplate": "Number of Features (k)=%{x}<br>R² Score=%{y}<extra></extra>",
         "legendgroup": "",
         "line": {
          "color": "#636efa",
          "dash": "solid"
         },
         "marker": {
          "symbol": "circle"
         },
         "mode": "lines+markers",
         "name": "",
         "orientation": "v",
         "showlegend": false,
         "type": "scatter",
         "x": {
          "bdata": "AQIDBAUGBwgJCgsMDQ4PEBESExQ=",
          "dtype": "i1"
         },
         "xaxis": "x",
         "y": {
          "bdata": "fETzHQRGwj8yRdkEouvXP0VDF5Lc/Nk/BsI49/Ok4j8IKqv6jGbjPwXpOHihBeQ/RD7b/og05D8azTge3j/kP8ZSOntuDOQ/tfxNGHe84z86XsKIn/PjP7pbA1WeQeQ/jq5LX+Bc5D+q1781uQ/kP3idWBZCAOQ/gzRTPCPt4z+iiRrrFljkP3N4+VlU4OM/mimbcdPG4z8rqkT94hDkPw==",
          "dtype": "f8"
         },
         "yaxis": "y"
        }
       ],
       "layout": {
        "annotations": [
         {
          "showarrow": false,
          "text": "Best k = 5",
          "x": 5,
          "xanchor": "left",
          "xref": "x",
          "y": 1,
          "yanchor": "top",
          "yref": "y domain"
         }
        ],
        "legend": {
         "tracegroupgap": 0
        },
        "shapes": [
         {
          "line": {
           "color": "#EF553B",
           "dash": "dash"
          },
          "type": "line",
          "x0": 5,
          "x1": 5,
          "xref": "x",
          "y0": 0,
          "y1": 1,
          "yref": "y domain"
         }
        ],
        "template": {
         "data": {
          "bar": [
           {
            "error_x": {
             "color": "#2a3f5f"
            },
            "error_y": {
             "color": "#2a3f5f"
            },
            "marker": {
             "line": {
              "color": "#E5ECF6",
              "width": 0.5
             },
             "pattern": {
              "fillmode": "overlay",
              "size": 10,
              "solidity": 0.2
             }
            },
            "type": "bar"
           }
          ],
          "barpolar": [
           {
            "marker": {
             "line": {
              "color": "#E5ECF6",
              "width": 0.5
             },
             "pattern": {
              "fillmode": "overlay",
              "size": 10,
              "solidity": 0.2
             }
            },
            "type": "barpolar"
           }
          ],
          "carpet": [
           {
            "aaxis": {
             "endlinecolor": "#2a3f5f",
             "gridcolor": "white",
             "linecolor": "white",
             "minorgridcolor": "white",
             "startlinecolor": "#2a3f5f"
            },
            "baxis": {
             "endlinecolor": "#2a3f5f",
             "gridcolor": "white",
             "linecolor": "white",
             "minorgridcolor": "white",
             "startlinecolor": "#2a3f5f"
            },
            "type": "carpet"
           }
          ],
          "choropleth": [
           {
            "colorbar": {
             "outlinewidth": 0,
             "ticks": ""
            },
            "type": "choropleth"
           }
          ],
          "contour": [
           {
            "colorbar": {
             "outlinewidth": 0,
             "ticks": ""
            },
            "colorscale": [
             [
              0,
              "#0d0887"
             ],
             [
              0.1111111111111111,
              "#46039f"
             ],
             [
              0.2222222222222222,
              "#7201a8"
             ],
             [
              0.3333333333333333,
              "#9c179e"
             ],
             [
              0.4444444444444444,
              "#bd3786"
             ],
             [
              0.5555555555555556,
              "#d8576b"
             ],
             [
              0.6666666666666666,
              "#ed7953"
             ],
             [
              0.7777777777777778,
              "#fb9f3a"
             ],
             [
              0.8888888888888888,
              "#fdca26"
             ],
             [
              1,
              "#f0f921"
             ]
            ],
            "type": "contour"
           }
          ],
          "contourcarpet": [
           {
            "colorbar": {
             "outlinewidth": 0,
             "ticks": ""
            },
            "type": "contourcarpet"
           }
          ],
          "heatmap": [
           {
            "colorbar": {
             "outlinewidth": 0,
             "ticks": ""
            },
            "colorscale": [
             [
              0,
              "#0d0887"
             ],
             [
              0.1111111111111111,
              "#46039f"
             ],
             [
              0.2222222222222222,
              "#7201a8"
             ],
             [
              0.3333333333333333,
              "#9c179e"
             ],
             [
              0.4444444444444444,
              "#bd3786"
             ],
             [
              0.5555555555555556,
              "#d8576b"
             ],
             [
              0.6666666666666666,
              "#ed7953"
             ],
             [
              0.7777777777777778,
              "#fb9f3a"
             ],
             [
              0.8888888888888888,
              "#fdca26"
             ],
             [
              1,
              "#f0f921"
             ]
            ],
            "type": "heatmap"
           }
          ],
          "histogram": [
           {
            "marker": {
             "pattern": {
              "fillmode": "overlay",
              "size": 10,
              "solidity": 0.2
             }
            },
            "type": "histogram"
           }
          ],
          "histogram2d": [
           {
            "colorbar": {
             "outlinewidth": 0,
             "ticks": ""
            },
            "colorscale": [
             [
              0,
              "#0d0887"
             ],
             [
              0.1111111111111111,
              "#46039f"
             ],
             [
              0.2222222222222222,
              "#7201a8"
             ],
             [
              0.3333333333333333,
              "#9c179e"
             ],
             [
              0.4444444444444444,
              "#bd3786"
             ],
             [
              0.5555555555555556,
              "#d8576b"
             ],
             [
              0.6666666666666666,
              "#ed7953"
             ],
             [
              0.7777777777777778,
              "#fb9f3a"
             ],
             [
              0.8888888888888888,
              "#fdca26"
             ],
             [
              1,
              "#f0f921"
             ]
            ],
            "type": "histogram2d"
           }
          ],
          "histogram2dcontour": [
           {
            "colorbar": {
             "outlinewidth": 0,
             "ticks": ""
            },
            "colorscale": [
             [
              0,
              "#0d0887"
             ],
             [
              0.1111111111111111,
              "#46039f"
             ],
             [
              0.2222222222222222,
              "#7201a8"
             ],
             [
              0.3333333333333333,
              "#9c179e"
             ],
             [
              0.4444444444444444,
              "#bd3786"
             ],
             [
              0.5555555555555556,
              "#d8576b"
             ],
             [
              0.6666666666666666,
              "#ed7953"
             ],
             [
              0.7777777777777778,
              "#fb9f3a"
             ],
             [
              0.8888888888888888,
              "#fdca26"
             ],
             [
              1,
              "#f0f921"
             ]
            ],
            "type": "histogram2dcontour"
           }
          ],
          "mesh3d": [
           {
            "colorbar": {
             "outlinewidth": 0,
             "ticks": ""
            },
            "type": "mesh3d"
           }
          ],
          "parcoords": [
           {
            "line": {
             "colorbar": {
              "outlinewidth": 0,
              "ticks": ""
             }
            },
            "type": "parcoords"
           }
          ],
          "pie": [
           {
            "automargin": true,
            "type": "pie"
           }
          ],
          "scatter": [
           {
            "fillpattern": {
             "fillmode": "overlay",
             "size": 10,
             "solidity": 0.2
            },
            "type": "scatter"
           }
          ],
          "scatter3d": [
           {
            "line": {
             "colorbar": {
              "outlinewidth": 0,
              "ticks": ""
             }
            },
            "marker": {
             "colorbar": {
              "outlinewidth": 0,
              "ticks": ""
             }
            },
            "type": "scatter3d"
           }
          ],
          "scattercarpet": [
           {
            "marker": {
             "colorbar": {
              "outlinewidth": 0,
              "ticks": ""
             }
            },
            "type": "scattercarpet"
           }
          ],
          "scattergeo": [
           {
            "marker": {
             "colorbar": {
              "outlinewidth": 0,
              "ticks": ""
             }
            },
            "type": "scattergeo"
           }
          ],
          "scattergl": [
           {
            "marker": {
             "colorbar": {
              "outlinewidth": 0,
              "ticks": ""
             }
            },
            "type": "scattergl"
           }
          ],
          "scattermap": [
           {
            "marker": {
             "colorbar": {
              "outlinewidth": 0,
              "ticks": ""
             }
            },
            "type": "scattermap"
           }
          ],
          "scattermapbox": [
           {
            "marker": {
             "colorbar": {
              "outlinewidth": 0,
              "ticks": ""
             }
            },
            "type": "scattermapbox"
           }
          ],
          "scatterpolar": [
           {
            "marker": {
             "colorbar": {
              "outlinewidth": 0,
              "ticks": ""
             }
            },
            "type": "scatterpolar"
           }
          ],
          "scatterpolargl": [
           {
            "marker": {
             "colorbar": {
              "outlinewidth": 0,
              "ticks": ""
             }
            },
            "type": "scatterpolargl"
           }
          ],
          "scatterternary": [
           {
            "marker": {
             "colorbar": {
              "outlinewidth": 0,
              "ticks": ""
             }
            },
            "type": "scatterternary"
           }
          ],
          "surface": [
           {
            "colorbar": {
             "outlinewidth": 0,
             "ticks": ""
            },
            "colorscale": [
             [
              0,
              "#0d0887"
             ],
             [
              0.1111111111111111,
              "#46039f"
             ],
             [
              0.2222222222222222,
              "#7201a8"
             ],
             [
              0.3333333333333333,
              "#9c179e"
             ],
             [
              0.4444444444444444,
              "#bd3786"
             ],
             [
              0.5555555555555556,
              "#d8576b"
             ],
             [
              0.6666666666666666,
              "#ed7953"
             ],
             [
              0.7777777777777778,
              "#fb9f3a"
             ],
             [
              0.8888888888888888,
              "#fdca26"
             ],
             [
              1,
              "#f0f921"
             ]
            ],
            "type": "surface"
           }
          ],
          "table": [
           {
            "cells": {
             "fill": {
              "color": "#EBF0F8"
             },
             "line": {
              "color": "white"
             }
            },
            "header": {
             "fill": {
              "color": "#C8D4E3"
             },
             "line": {
              "color": "white"
             }
            },
            "type": "table"
           }
          ]
         },
         "layout": {
          "annotationdefaults": {
           "arrowcolor": "#2a3f5f",
           "arrowhead": 0,
           "arrowwidth": 1
          },
          "autotypenumbers": "strict",
          "coloraxis": {
           "colorbar": {
            "outlinewidth": 0,
            "ticks": ""
           }
          },
          "colorscale": {
           "diverging": [
            [
             0,
             "#8e0152"
            ],
            [
             0.1,
             "#c51b7d"
            ],
            [
             0.2,
             "#de77ae"
            ],
            [
             0.3,
             "#f1b6da"
            ],
            [
             0.4,
             "#fde0ef"
            ],
            [
             0.5,
             "#f7f7f7"
            ],
            [
             0.6,
             "#e6f5d0"
            ],
            [
             0.7,
             "#b8e186"
            ],
            [
             0.8,
             "#7fbc41"
            ],
            [
             0.9,
             "#4d9221"
            ],
            [
             1,
             "#276419"
            ]
           ],
           "sequential": [
            [
             0,
             "#0d0887"
            ],
            [
             0.1111111111111111,
             "#46039f"
            ],
            [
             0.2222222222222222,
             "#7201a8"
            ],
            [
             0.3333333333333333,
             "#9c179e"
            ],
            [
             0.4444444444444444,
             "#bd3786"
            ],
            [
             0.5555555555555556,
             "#d8576b"
            ],
            [
             0.6666666666666666,
             "#ed7953"
            ],
            [
             0.7777777777777778,
             "#fb9f3a"
            ],
            [
             0.8888888888888888,
             "#fdca26"
            ],
            [
             1,
             "#f0f921"
            ]
           ],
           "sequentialminus": [
            [
             0,
             "#0d0887"
            ],
            [
             0.1111111111111111,
             "#46039f"
            ],
            [
             0.2222222222222222,
             "#7201a8"
            ],
            [
             0.3333333333333333,
             "#9c179e"
            ],
            [
             0.4444444444444444,
             "#bd3786"
            ],
            [
             0.5555555555555556,
             "#d8576b"
            ],
            [
             0.6666666666666666,
             "#ed7953"
            ],
            [
             0.7777777777777778,
             "#fb9f3a"
            ],
            [
             0.8888888888888888,
             "#fdca26"
            ],
            [
             1,
             "#f0f921"
            ]
           ]
          },
          "colorway": [
           "#636efa",
           "#EF553B",
           "#00cc96",
           "#ab63fa",
           "#FFA15A",
           "#19d3f3",
           "#FF6692",
           "#B6E880",
           "#FF97FF",
           "#FECB52"
          ],
          "font": {
           "color": "#2a3f5f"
          },
          "geo": {
           "bgcolor": "white",
           "lakecolor": "white",
           "landcolor": "#E5ECF6",
           "showlakes": true,
           "showland": true,
           "subunitcolor": "white"
          },
          "hoverlabel": {
           "align": "left"
          },
          "hovermode": "closest",
          "mapbox": {
           "style": "light"
          },
          "paper_bgcolor": "white",
          "plot_bgcolor": "#E5ECF6",
          "polar": {
           "angularaxis": {
            "gridcolor": "white",
            "linecolor": "white",
            "ticks": ""
           },
           "bgcolor": "#E5ECF6",
           "radialaxis": {
            "gridcolor": "white",
            "linecolor": "white",
            "ticks": ""
           }
          },
          "scene": {
           "xaxis": {
            "backgroundcolor": "#E5ECF6",
            "gridcolor": "white",
            "gridwidth": 2,
            "linecolor": "white",
            "showbackground": true,
            "ticks": "",
            "zerolinecolor": "white"
           },
           "yaxis": {
            "backgroundcolor": "#E5ECF6",
            "gridcolor": "white",
            "gridwidth": 2,
            "linecolor": "white",
            "showbackground": true,
            "ticks": "",
            "zerolinecolor": "white"
           },
           "zaxis": {
            "backgroundcolor": "#E5ECF6",
            "gridcolor": "white",
            "gridwidth": 2,
            "linecolor": "white",
            "showbackground": true,
            "ticks": "",
            "zerolinecolor": "white"
           }
          },
          "shapedefaults": {
           "line": {
            "color": "#2a3f5f"
           }
          },
          "ternary": {
           "aaxis": {
            "gridcolor": "white",
            "linecolor": "white",
            "ticks": ""
           },
           "baxis": {
            "gridcolor": "white",
            "linecolor": "white",
            "ticks": ""
           },
           "bgcolor": "#E5ECF6",
           "caxis": {
            "gridcolor": "white",
            "linecolor": "white",
            "ticks": ""
           }
          },
          "title": {
           "x": 0.05
          },
          "xaxis": {
           "automargin": true,
           "gridcolor": "white",
           "linecolor": "white",
           "ticks": "",
           "title": {
            "standoff": 15
           },
           "zerolinecolor": "white",
           "zerolinewidth": 2
          },
          "yaxis": {
           "automargin": true,
           "gridcolor": "white",
           "linecolor": "white",
           "ticks": "",
           "title": {
            "standoff": 15
           },
           "zerolinecolor": "white",
           "zerolinewidth": 2
          }
         }
        },
        "title": {
         "text": "Feature Selection with KNN"
        },
        "xaxis": {
         "anchor": "y",
         "domain": [
          0,
          1
         ],
         "showgrid": false,
         "title": {
          "text": "Number of Features (k)"
         }
        },
        "yaxis": {
         "anchor": "x",
         "domain": [
          0,
          1
         ],
         "showgrid": false,
         "title": {
          "text": "R² Score"
         }
        }
       }
      }
     },
     "metadata": {},
     "output_type": "display_data"
    }
   ],
   "source": [
    "fig = px.line(\n",
    "    df, x='k', y='cv_score', markers=True,\n",
    "    title='Feature Selection with KNN', \n",
    "    labels={\n",
    "        'k': 'Number of Features (k)',\n",
    "        'cv_score': 'R² Score'\n",
    "    }\n",
    ")\n",
    "fig.update_layout(xaxis=dict(showgrid=False), \n",
    "                  yaxis=dict(showgrid=False))\n",
    "# fig.update_traces(line=dict(color='blue'))\n",
    "fig.add_vline(\n",
    "    x=5,\n",
    "    line_dash=\"dash\",\n",
    "    line_color=\"#EF553B\",\n",
    "    annotation_text=\"Best k = 5\",\n",
    "    annotation_position=\"top right\"\n",
    ")\n",
    "\n",
    "fig.show()"
   ]
  },
  {
   "cell_type": "code",
   "execution_count": 13,
   "id": "79287561",
   "metadata": {},
   "outputs": [
    {
     "data": {
      "text/plain": [
       "Index(['construction year', 'living area', 'bedrooms', 'energy class',\n",
       "       'surface of the plot'],\n",
       "      dtype='object')"
      ]
     },
     "execution_count": 13,
     "metadata": {},
     "output_type": "execute_result"
    }
   ],
   "source": [
    "# best k=5\n",
    "kbest = SelectKBest(score_func=mutual_info_regression, k=5)\n",
    "X_kbest = kbest.fit_transform(X_imputed, y_imputed)\n",
    "X_stand.columns[kbest.get_support()]"
   ]
  },
  {
   "cell_type": "code",
   "execution_count": 14,
   "id": "3ccdb3e7",
   "metadata": {},
   "outputs": [
    {
     "data": {
      "text/html": [
       "<div>\n",
       "<style scoped>\n",
       "    .dataframe tbody tr th:only-of-type {\n",
       "        vertical-align: middle;\n",
       "    }\n",
       "\n",
       "    .dataframe tbody tr th {\n",
       "        vertical-align: top;\n",
       "    }\n",
       "\n",
       "    .dataframe thead th {\n",
       "        text-align: right;\n",
       "    }\n",
       "</style>\n",
       "<table border=\"1\" class=\"dataframe\">\n",
       "  <thead>\n",
       "    <tr style=\"text-align: right;\">\n",
       "      <th></th>\n",
       "      <th>construction year</th>\n",
       "      <th>living area</th>\n",
       "      <th>bedrooms</th>\n",
       "      <th>energy class</th>\n",
       "      <th>surface of the plot</th>\n",
       "    </tr>\n",
       "  </thead>\n",
       "  <tbody>\n",
       "    <tr>\n",
       "      <th>0</th>\n",
       "      <td>1.035587</td>\n",
       "      <td>-0.180256</td>\n",
       "      <td>-0.910142</td>\n",
       "      <td>-0.795582</td>\n",
       "      <td>-0.237682</td>\n",
       "    </tr>\n",
       "    <tr>\n",
       "      <th>1</th>\n",
       "      <td>0.129029</td>\n",
       "      <td>-0.163465</td>\n",
       "      <td>0.554041</td>\n",
       "      <td>1.229257</td>\n",
       "      <td>-0.045844</td>\n",
       "    </tr>\n",
       "  </tbody>\n",
       "</table>\n",
       "</div>"
      ],
      "text/plain": [
       "   construction year  living area  bedrooms  energy class  surface of the plot\n",
       "0           1.035587    -0.180256 -0.910142     -0.795582            -0.237682\n",
       "1           0.129029    -0.163465  0.554041      1.229257            -0.045844"
      ]
     },
     "execution_count": 14,
     "metadata": {},
     "output_type": "execute_result"
    }
   ],
   "source": [
    "kbest_df = pd.DataFrame(X_kbest, columns=X_stand.columns[kbest.get_support()])\n",
    "kbest_df.head(2)"
   ]
  },
  {
   "cell_type": "markdown",
   "id": "98e61fe9",
   "metadata": {},
   "source": [
    "# Modeling"
   ]
  },
  {
   "cell_type": "code",
   "execution_count": 15,
   "id": "2bc537c1",
   "metadata": {},
   "outputs": [],
   "source": [
    "# algorithms\n",
    "from sklearn.linear_model import LinearRegression\n",
    "from xgboost import XGBRFRegressor\n",
    "from sklearn.ensemble import RandomForestRegressor\n",
    "from catboost import CatBoostRegressor\n",
    "\n",
    "# evaluation\n",
    "from sklearn.metrics import root_mean_squared_error, mean_absolute_error, r2_score\n",
    "import time \n",
    "\n",
    "from sklearn.model_selection import cross_val_score\n"
   ]
  },
  {
   "cell_type": "code",
   "execution_count": 17,
   "id": "1599bbc5",
   "metadata": {},
   "outputs": [
    {
     "data": {
      "text/html": [
       "<div>\n",
       "<style scoped>\n",
       "    .dataframe tbody tr th:only-of-type {\n",
       "        vertical-align: middle;\n",
       "    }\n",
       "\n",
       "    .dataframe tbody tr th {\n",
       "        vertical-align: top;\n",
       "    }\n",
       "\n",
       "    .dataframe thead th {\n",
       "        text-align: right;\n",
       "    }\n",
       "</style>\n",
       "<table border=\"1\" class=\"dataframe\">\n",
       "  <thead>\n",
       "    <tr style=\"text-align: right;\">\n",
       "      <th></th>\n",
       "      <th>Model</th>\n",
       "      <th>RMSE</th>\n",
       "      <th>MAE</th>\n",
       "      <th>R²</th>\n",
       "      <th>Training Time (s)</th>\n",
       "    </tr>\n",
       "  </thead>\n",
       "  <tbody>\n",
       "    <tr>\n",
       "      <th>0</th>\n",
       "      <td>Multiple Linear Regression</td>\n",
       "      <td>0.875</td>\n",
       "      <td>0.493</td>\n",
       "      <td>0.164</td>\n",
       "      <td>0.13461</td>\n",
       "    </tr>\n",
       "    <tr>\n",
       "      <th>1</th>\n",
       "      <td>XGBoost-Random Forest</td>\n",
       "      <td>0.654</td>\n",
       "      <td>0.410</td>\n",
       "      <td>0.580</td>\n",
       "      <td>4.13647</td>\n",
       "    </tr>\n",
       "    <tr>\n",
       "      <th>2</th>\n",
       "      <td>Random Forest</td>\n",
       "      <td>0.622</td>\n",
       "      <td>0.368</td>\n",
       "      <td>0.621</td>\n",
       "      <td>6.95354</td>\n",
       "    </tr>\n",
       "    <tr>\n",
       "      <th>3</th>\n",
       "      <td>CatBoost</td>\n",
       "      <td>0.619</td>\n",
       "      <td>0.363</td>\n",
       "      <td>0.617</td>\n",
       "      <td>13.35801</td>\n",
       "    </tr>\n",
       "  </tbody>\n",
       "</table>\n",
       "</div>"
      ],
      "text/plain": [
       "                        Model   RMSE    MAE     R²  Training Time (s)\n",
       "0  Multiple Linear Regression  0.875  0.493  0.164            0.13461\n",
       "1       XGBoost-Random Forest  0.654  0.410  0.580            4.13647\n",
       "2               Random Forest  0.622  0.368  0.621            6.95354\n",
       "3                    CatBoost  0.619  0.363  0.617           13.35801"
      ]
     },
     "execution_count": 17,
     "metadata": {},
     "output_type": "execute_result"
    }
   ],
   "source": [
    "models = {'Multiple Linear Regression': LinearRegression(), \n",
    "          'XGBoost-Random Forest': XGBRFRegressor(random_state=2025), \n",
    "          'Random Forest': RandomForestRegressor(),\n",
    "          'CatBoost': CatBoostRegressor(verbose=0, random_state=2025)\n",
    "}\n",
    "\n",
    "model_results = []\n",
    "for name, model in models.items():\n",
    "    start = time.time()\n",
    "\n",
    "    cod = cross_val_score(model, X_train, y_train, cv=10, scoring='r2').mean()\n",
    "    rmse = (-cross_val_score(model, X_train, y_train, cv=10, scoring='neg_mean_squared_error').mean())**0.5\n",
    "    mae = (-cross_val_score(model, X_train, y_train, cv=10, scoring='neg_mean_absolute_error').mean())\n",
    "    \n",
    "    end = time.time()\n",
    "    duration=end-start\n",
    "\n",
    "    model_results.append({\n",
    "        'Model': name,\n",
    "        'RMSE': round(rmse,3),\n",
    "        'MAE': round(mae,3),\n",
    "        'R²': round(cod,3),\n",
    "        'Training Time (s)': round(duration, 5)\n",
    "    })\n",
    "\n",
    "# Create DataFrame\n",
    "model_results_df = pd.DataFrame(model_results)\n",
    "model_results_df"
   ]
  },
  {
   "cell_type": "code",
   "execution_count": 18,
   "id": "da53fe13",
   "metadata": {},
   "outputs": [
    {
     "data": {
      "application/vnd.plotly.v1+json": {
       "config": {
        "plotlyServerURL": "https://plotly.com"
       },
       "data": [
        {
         "alignmentgroup": "True",
         "hovertemplate": "Metric=RMSE<br>Model=%{x}<br>Score=%{text}<extra></extra>",
         "legendgroup": "RMSE",
         "marker": {
          "color": "#636efa",
          "pattern": {
           "shape": ""
          }
         },
         "name": "RMSE",
         "offsetgroup": "RMSE",
         "orientation": "v",
         "showlegend": true,
         "text": {
          "bdata": "AAAAAAAA7D8hsHJoke3kP4GVQ4ts5+M/AiuHFtnO4z8=",
          "dtype": "f8"
         },
         "textposition": "outside",
         "type": "bar",
         "x": [
          "Multiple Linear Regression",
          "XGBoost-Random Forest",
          "Random Forest",
          "CatBoost"
         ],
         "xaxis": "x",
         "y": {
          "bdata": "AAAAAAAA7D8hsHJoke3kP4GVQ4ts5+M/AiuHFtnO4z8=",
          "dtype": "f8"
         },
         "yaxis": "y"
        },
        {
         "alignmentgroup": "True",
         "hovertemplate": "Metric=MAE<br>Model=%{x}<br>Score=%{text}<extra></extra>",
         "legendgroup": "MAE",
         "marker": {
          "color": "#EF553B",
          "pattern": {
           "shape": ""
          }
         },
         "name": "MAE",
         "offsetgroup": "MAE",
         "orientation": "v",
         "showlegend": true,
         "text": {
          "bdata": "WmQ730+N3z89CtejcD3aP1pkO99Pjdc/CKwcWmQ71z8=",
          "dtype": "f8"
         },
         "textposition": "outside",
         "type": "bar",
         "x": [
          "Multiple Linear Regression",
          "XGBoost-Random Forest",
          "Random Forest",
          "CatBoost"
         ],
         "xaxis": "x",
         "y": {
          "bdata": "WmQ730+N3z89CtejcD3aP1pkO99Pjdc/CKwcWmQ71z8=",
          "dtype": "f8"
         },
         "yaxis": "y"
        },
        {
         "alignmentgroup": "True",
         "hovertemplate": "Metric=R²<br>Model=%{x}<br>Score=%{text}<extra></extra>",
         "legendgroup": "R²",
         "marker": {
          "color": "#00cc96",
          "pattern": {
           "shape": ""
          }
         },
         "name": "R²",
         "offsetgroup": "R²",
         "orientation": "v",
         "showlegend": true,
         "text": {
          "bdata": "y6FFtvP9xD+PwvUoXI/iP6wcWmQ73+M/WDm0yHa+4z8=",
          "dtype": "f8"
         },
         "textposition": "outside",
         "type": "bar",
         "x": [
          "Multiple Linear Regression",
          "XGBoost-Random Forest",
          "Random Forest",
          "CatBoost"
         ],
         "xaxis": "x",
         "y": {
          "bdata": "y6FFtvP9xD+PwvUoXI/iP6wcWmQ73+M/WDm0yHa+4z8=",
          "dtype": "f8"
         },
         "yaxis": "y"
        }
       ],
       "layout": {
        "barmode": "group",
        "legend": {
         "title": {
          "text": "Metric"
         },
         "tracegroupgap": 0
        },
        "template": {
         "data": {
          "bar": [
           {
            "error_x": {
             "color": "#2a3f5f"
            },
            "error_y": {
             "color": "#2a3f5f"
            },
            "marker": {
             "line": {
              "color": "#E5ECF6",
              "width": 0.5
             },
             "pattern": {
              "fillmode": "overlay",
              "size": 10,
              "solidity": 0.2
             }
            },
            "type": "bar"
           }
          ],
          "barpolar": [
           {
            "marker": {
             "line": {
              "color": "#E5ECF6",
              "width": 0.5
             },
             "pattern": {
              "fillmode": "overlay",
              "size": 10,
              "solidity": 0.2
             }
            },
            "type": "barpolar"
           }
          ],
          "carpet": [
           {
            "aaxis": {
             "endlinecolor": "#2a3f5f",
             "gridcolor": "white",
             "linecolor": "white",
             "minorgridcolor": "white",
             "startlinecolor": "#2a3f5f"
            },
            "baxis": {
             "endlinecolor": "#2a3f5f",
             "gridcolor": "white",
             "linecolor": "white",
             "minorgridcolor": "white",
             "startlinecolor": "#2a3f5f"
            },
            "type": "carpet"
           }
          ],
          "choropleth": [
           {
            "colorbar": {
             "outlinewidth": 0,
             "ticks": ""
            },
            "type": "choropleth"
           }
          ],
          "contour": [
           {
            "colorbar": {
             "outlinewidth": 0,
             "ticks": ""
            },
            "colorscale": [
             [
              0,
              "#0d0887"
             ],
             [
              0.1111111111111111,
              "#46039f"
             ],
             [
              0.2222222222222222,
              "#7201a8"
             ],
             [
              0.3333333333333333,
              "#9c179e"
             ],
             [
              0.4444444444444444,
              "#bd3786"
             ],
             [
              0.5555555555555556,
              "#d8576b"
             ],
             [
              0.6666666666666666,
              "#ed7953"
             ],
             [
              0.7777777777777778,
              "#fb9f3a"
             ],
             [
              0.8888888888888888,
              "#fdca26"
             ],
             [
              1,
              "#f0f921"
             ]
            ],
            "type": "contour"
           }
          ],
          "contourcarpet": [
           {
            "colorbar": {
             "outlinewidth": 0,
             "ticks": ""
            },
            "type": "contourcarpet"
           }
          ],
          "heatmap": [
           {
            "colorbar": {
             "outlinewidth": 0,
             "ticks": ""
            },
            "colorscale": [
             [
              0,
              "#0d0887"
             ],
             [
              0.1111111111111111,
              "#46039f"
             ],
             [
              0.2222222222222222,
              "#7201a8"
             ],
             [
              0.3333333333333333,
              "#9c179e"
             ],
             [
              0.4444444444444444,
              "#bd3786"
             ],
             [
              0.5555555555555556,
              "#d8576b"
             ],
             [
              0.6666666666666666,
              "#ed7953"
             ],
             [
              0.7777777777777778,
              "#fb9f3a"
             ],
             [
              0.8888888888888888,
              "#fdca26"
             ],
             [
              1,
              "#f0f921"
             ]
            ],
            "type": "heatmap"
           }
          ],
          "histogram": [
           {
            "marker": {
             "pattern": {
              "fillmode": "overlay",
              "size": 10,
              "solidity": 0.2
             }
            },
            "type": "histogram"
           }
          ],
          "histogram2d": [
           {
            "colorbar": {
             "outlinewidth": 0,
             "ticks": ""
            },
            "colorscale": [
             [
              0,
              "#0d0887"
             ],
             [
              0.1111111111111111,
              "#46039f"
             ],
             [
              0.2222222222222222,
              "#7201a8"
             ],
             [
              0.3333333333333333,
              "#9c179e"
             ],
             [
              0.4444444444444444,
              "#bd3786"
             ],
             [
              0.5555555555555556,
              "#d8576b"
             ],
             [
              0.6666666666666666,
              "#ed7953"
             ],
             [
              0.7777777777777778,
              "#fb9f3a"
             ],
             [
              0.8888888888888888,
              "#fdca26"
             ],
             [
              1,
              "#f0f921"
             ]
            ],
            "type": "histogram2d"
           }
          ],
          "histogram2dcontour": [
           {
            "colorbar": {
             "outlinewidth": 0,
             "ticks": ""
            },
            "colorscale": [
             [
              0,
              "#0d0887"
             ],
             [
              0.1111111111111111,
              "#46039f"
             ],
             [
              0.2222222222222222,
              "#7201a8"
             ],
             [
              0.3333333333333333,
              "#9c179e"
             ],
             [
              0.4444444444444444,
              "#bd3786"
             ],
             [
              0.5555555555555556,
              "#d8576b"
             ],
             [
              0.6666666666666666,
              "#ed7953"
             ],
             [
              0.7777777777777778,
              "#fb9f3a"
             ],
             [
              0.8888888888888888,
              "#fdca26"
             ],
             [
              1,
              "#f0f921"
             ]
            ],
            "type": "histogram2dcontour"
           }
          ],
          "mesh3d": [
           {
            "colorbar": {
             "outlinewidth": 0,
             "ticks": ""
            },
            "type": "mesh3d"
           }
          ],
          "parcoords": [
           {
            "line": {
             "colorbar": {
              "outlinewidth": 0,
              "ticks": ""
             }
            },
            "type": "parcoords"
           }
          ],
          "pie": [
           {
            "automargin": true,
            "type": "pie"
           }
          ],
          "scatter": [
           {
            "fillpattern": {
             "fillmode": "overlay",
             "size": 10,
             "solidity": 0.2
            },
            "type": "scatter"
           }
          ],
          "scatter3d": [
           {
            "line": {
             "colorbar": {
              "outlinewidth": 0,
              "ticks": ""
             }
            },
            "marker": {
             "colorbar": {
              "outlinewidth": 0,
              "ticks": ""
             }
            },
            "type": "scatter3d"
           }
          ],
          "scattercarpet": [
           {
            "marker": {
             "colorbar": {
              "outlinewidth": 0,
              "ticks": ""
             }
            },
            "type": "scattercarpet"
           }
          ],
          "scattergeo": [
           {
            "marker": {
             "colorbar": {
              "outlinewidth": 0,
              "ticks": ""
             }
            },
            "type": "scattergeo"
           }
          ],
          "scattergl": [
           {
            "marker": {
             "colorbar": {
              "outlinewidth": 0,
              "ticks": ""
             }
            },
            "type": "scattergl"
           }
          ],
          "scattermap": [
           {
            "marker": {
             "colorbar": {
              "outlinewidth": 0,
              "ticks": ""
             }
            },
            "type": "scattermap"
           }
          ],
          "scattermapbox": [
           {
            "marker": {
             "colorbar": {
              "outlinewidth": 0,
              "ticks": ""
             }
            },
            "type": "scattermapbox"
           }
          ],
          "scatterpolar": [
           {
            "marker": {
             "colorbar": {
              "outlinewidth": 0,
              "ticks": ""
             }
            },
            "type": "scatterpolar"
           }
          ],
          "scatterpolargl": [
           {
            "marker": {
             "colorbar": {
              "outlinewidth": 0,
              "ticks": ""
             }
            },
            "type": "scatterpolargl"
           }
          ],
          "scatterternary": [
           {
            "marker": {
             "colorbar": {
              "outlinewidth": 0,
              "ticks": ""
             }
            },
            "type": "scatterternary"
           }
          ],
          "surface": [
           {
            "colorbar": {
             "outlinewidth": 0,
             "ticks": ""
            },
            "colorscale": [
             [
              0,
              "#0d0887"
             ],
             [
              0.1111111111111111,
              "#46039f"
             ],
             [
              0.2222222222222222,
              "#7201a8"
             ],
             [
              0.3333333333333333,
              "#9c179e"
             ],
             [
              0.4444444444444444,
              "#bd3786"
             ],
             [
              0.5555555555555556,
              "#d8576b"
             ],
             [
              0.6666666666666666,
              "#ed7953"
             ],
             [
              0.7777777777777778,
              "#fb9f3a"
             ],
             [
              0.8888888888888888,
              "#fdca26"
             ],
             [
              1,
              "#f0f921"
             ]
            ],
            "type": "surface"
           }
          ],
          "table": [
           {
            "cells": {
             "fill": {
              "color": "#EBF0F8"
             },
             "line": {
              "color": "white"
             }
            },
            "header": {
             "fill": {
              "color": "#C8D4E3"
             },
             "line": {
              "color": "white"
             }
            },
            "type": "table"
           }
          ]
         },
         "layout": {
          "annotationdefaults": {
           "arrowcolor": "#2a3f5f",
           "arrowhead": 0,
           "arrowwidth": 1
          },
          "autotypenumbers": "strict",
          "coloraxis": {
           "colorbar": {
            "outlinewidth": 0,
            "ticks": ""
           }
          },
          "colorscale": {
           "diverging": [
            [
             0,
             "#8e0152"
            ],
            [
             0.1,
             "#c51b7d"
            ],
            [
             0.2,
             "#de77ae"
            ],
            [
             0.3,
             "#f1b6da"
            ],
            [
             0.4,
             "#fde0ef"
            ],
            [
             0.5,
             "#f7f7f7"
            ],
            [
             0.6,
             "#e6f5d0"
            ],
            [
             0.7,
             "#b8e186"
            ],
            [
             0.8,
             "#7fbc41"
            ],
            [
             0.9,
             "#4d9221"
            ],
            [
             1,
             "#276419"
            ]
           ],
           "sequential": [
            [
             0,
             "#0d0887"
            ],
            [
             0.1111111111111111,
             "#46039f"
            ],
            [
             0.2222222222222222,
             "#7201a8"
            ],
            [
             0.3333333333333333,
             "#9c179e"
            ],
            [
             0.4444444444444444,
             "#bd3786"
            ],
            [
             0.5555555555555556,
             "#d8576b"
            ],
            [
             0.6666666666666666,
             "#ed7953"
            ],
            [
             0.7777777777777778,
             "#fb9f3a"
            ],
            [
             0.8888888888888888,
             "#fdca26"
            ],
            [
             1,
             "#f0f921"
            ]
           ],
           "sequentialminus": [
            [
             0,
             "#0d0887"
            ],
            [
             0.1111111111111111,
             "#46039f"
            ],
            [
             0.2222222222222222,
             "#7201a8"
            ],
            [
             0.3333333333333333,
             "#9c179e"
            ],
            [
             0.4444444444444444,
             "#bd3786"
            ],
            [
             0.5555555555555556,
             "#d8576b"
            ],
            [
             0.6666666666666666,
             "#ed7953"
            ],
            [
             0.7777777777777778,
             "#fb9f3a"
            ],
            [
             0.8888888888888888,
             "#fdca26"
            ],
            [
             1,
             "#f0f921"
            ]
           ]
          },
          "colorway": [
           "#636efa",
           "#EF553B",
           "#00cc96",
           "#ab63fa",
           "#FFA15A",
           "#19d3f3",
           "#FF6692",
           "#B6E880",
           "#FF97FF",
           "#FECB52"
          ],
          "font": {
           "color": "#2a3f5f"
          },
          "geo": {
           "bgcolor": "white",
           "lakecolor": "white",
           "landcolor": "#E5ECF6",
           "showlakes": true,
           "showland": true,
           "subunitcolor": "white"
          },
          "hoverlabel": {
           "align": "left"
          },
          "hovermode": "closest",
          "mapbox": {
           "style": "light"
          },
          "paper_bgcolor": "white",
          "plot_bgcolor": "#E5ECF6",
          "polar": {
           "angularaxis": {
            "gridcolor": "white",
            "linecolor": "white",
            "ticks": ""
           },
           "bgcolor": "#E5ECF6",
           "radialaxis": {
            "gridcolor": "white",
            "linecolor": "white",
            "ticks": ""
           }
          },
          "scene": {
           "xaxis": {
            "backgroundcolor": "#E5ECF6",
            "gridcolor": "white",
            "gridwidth": 2,
            "linecolor": "white",
            "showbackground": true,
            "ticks": "",
            "zerolinecolor": "white"
           },
           "yaxis": {
            "backgroundcolor": "#E5ECF6",
            "gridcolor": "white",
            "gridwidth": 2,
            "linecolor": "white",
            "showbackground": true,
            "ticks": "",
            "zerolinecolor": "white"
           },
           "zaxis": {
            "backgroundcolor": "#E5ECF6",
            "gridcolor": "white",
            "gridwidth": 2,
            "linecolor": "white",
            "showbackground": true,
            "ticks": "",
            "zerolinecolor": "white"
           }
          },
          "shapedefaults": {
           "line": {
            "color": "#2a3f5f"
           }
          },
          "ternary": {
           "aaxis": {
            "gridcolor": "white",
            "linecolor": "white",
            "ticks": ""
           },
           "baxis": {
            "gridcolor": "white",
            "linecolor": "white",
            "ticks": ""
           },
           "bgcolor": "#E5ECF6",
           "caxis": {
            "gridcolor": "white",
            "linecolor": "white",
            "ticks": ""
           }
          },
          "title": {
           "x": 0.05
          },
          "xaxis": {
           "automargin": true,
           "gridcolor": "white",
           "linecolor": "white",
           "ticks": "",
           "title": {
            "standoff": 15
           },
           "zerolinecolor": "white",
           "zerolinewidth": 2
          },
          "yaxis": {
           "automargin": true,
           "gridcolor": "white",
           "linecolor": "white",
           "ticks": "",
           "title": {
            "standoff": 15
           },
           "zerolinecolor": "white",
           "zerolinewidth": 2
          }
         }
        },
        "title": {
         "text": "Model Performance Comparison with KNN Imputation"
        },
        "xaxis": {
         "anchor": "y",
         "domain": [
          0,
          1
         ],
         "title": {
          "text": "Model"
         }
        },
        "yaxis": {
         "anchor": "x",
         "domain": [
          0,
          1
         ],
         "range": [
          0,
          1
         ],
         "title": {
          "text": "Score"
         }
        }
       }
      }
     },
     "metadata": {},
     "output_type": "display_data"
    }
   ],
   "source": [
    "# Assume `results_df` is already created\n",
    "metrics_df = model_results_df.melt(id_vars='Model', value_vars=['RMSE', 'MAE', 'R²'],\n",
    "                             var_name='Metric', value_name='Score')\n",
    "\n",
    "fig = px.bar(metrics_df, x='Model', y='Score', color='Metric', barmode='group',\n",
    "             title='Model Performance Comparison with KNN Imputation',\n",
    "             text='Score')\n",
    "fig.update_traces(textposition='outside')\n",
    "fig.update_yaxes(range=[0,1])\n",
    "fig.show()"
   ]
  }
 ],
 "metadata": {
  "kernelspec": {
   "display_name": "immoweb",
   "language": "python",
   "name": "python3"
  },
  "language_info": {
   "codemirror_mode": {
    "name": "ipython",
    "version": 3
   },
   "file_extension": ".py",
   "mimetype": "text/x-python",
   "name": "python",
   "nbconvert_exporter": "python",
   "pygments_lexer": "ipython3",
   "version": "3.11.11"
  }
 },
 "nbformat": 4,
 "nbformat_minor": 5
}
